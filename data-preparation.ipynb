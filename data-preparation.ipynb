{
 "cells": [
  {
   "cell_type": "code",
   "execution_count": 3,
   "id": "4cbd0004",
   "metadata": {},
   "outputs": [],
   "source": [
    "import pandas as pd \n",
    "import numpy as np"
   ]
  },
  {
   "cell_type": "code",
   "execution_count": 29,
   "id": "87a5e6d6",
   "metadata": {},
   "outputs": [],
   "source": [
    "dataset_path = \"/Users/boss_07/Documents/pdf_csv\""
   ]
  },
  {
   "cell_type": "code",
   "execution_count": 28,
   "id": "4c5328f6",
   "metadata": {},
   "outputs": [],
   "source": [
    "import os"
   ]
  },
  {
   "cell_type": "code",
   "execution_count": 37,
   "id": "be582c03",
   "metadata": {},
   "outputs": [],
   "source": [
    "ford_1 = pd.read_csv(f'{dataset_path}/ford_1.csv')\n",
    "ford_2 = pd.read_csv(f'{dataset_path}/ford_2.csv')"
   ]
  },
  {
   "cell_type": "code",
   "execution_count": 75,
   "id": "595ba202",
   "metadata": {},
   "outputs": [],
   "source": [
    "ford_12 = pd.concat([ford_1,ford_2])\n",
    "ford_12.drop(columns=['Page No','S.No'], inplace=True)"
   ]
  },
  {
   "cell_type": "code",
   "execution_count": null,
   "id": "cf4248aa",
   "metadata": {},
   "outputs": [],
   "source": [
    "\n",
    "ford_12.to_csv(f'{dataset_path}/ford.csv', index=False)"
   ]
  },
  {
   "cell_type": "code",
   "execution_count": null,
   "id": "e9b9f9a6",
   "metadata": {},
   "outputs": [],
   "source": []
  },
  {
   "cell_type": "code",
   "execution_count": 80,
   "id": "8aae561e",
   "metadata": {},
   "outputs": [],
   "source": [
    "maruti_1 = pd.read_csv(f'{dataset_path}/maruti_1.csv')\n",
    "maruti_2 = pd.read_csv(f'{dataset_path}/maruti_2.csv')\n",
    "maruti_3 = pd.read_csv(f'{dataset_path}/maruti_3.csv')\n",
    "maruti_4 = pd.read_csv(f'{dataset_path}/maruti_4.csv')\n",
    "maruti = pd.concat([maruti_1, maruti_2, maruti_3, maruti_4])"
   ]
  },
  {
   "cell_type": "code",
   "execution_count": 81,
   "id": "e27f3518",
   "metadata": {},
   "outputs": [],
   "source": [
    "maruti.drop([maruti.columns[-1],'S.No','Page No'], axis=1, inplace=True)"
   ]
  },
  {
   "cell_type": "code",
   "execution_count": 82,
   "id": "ffc73db2",
   "metadata": {},
   "outputs": [],
   "source": [
    "#strip whitespace in between strings in brand code\n",
    "maruti['Brand Code'] = maruti['Brand Code'].str.replace(' ', '')"
   ]
  },
  {
   "cell_type": "code",
   "execution_count": 87,
   "id": "99ea9804",
   "metadata": {},
   "outputs": [],
   "source": [
    "maruti['Brand Code'][maruti['Brand Code'] == '187W'] = '1B7W'"
   ]
  },
  {
   "cell_type": "code",
   "execution_count": 89,
   "id": "9977a2d3",
   "metadata": {},
   "outputs": [],
   "source": [
    "maruti.to_csv(f'{dataset_path}/maruti.csv', index=False)"
   ]
  },
  {
   "cell_type": "code",
   "execution_count": 104,
   "id": "39414dc3",
   "metadata": {},
   "outputs": [],
   "source": [
    "hyundai_1 = pd.read_csv(f'{dataset_path}/hyundai_1.csv')\n",
    "hyundai_2 = pd.read_csv(f'{dataset_path}/hyundai_2.csv')\n",
    "hyundai_3 = pd.read_csv(f'{dataset_path}/hyundai_3.csv')\n",
    "hyundai_4 = pd.read_csv(f'{dataset_path}/hyundai_4.csv')\n",
    "hyundai_5 = pd.read_csv(f'{dataset_path}/hyundai_5.csv')"
   ]
  },
  {
   "cell_type": "code",
   "execution_count": 105,
   "id": "db277c63",
   "metadata": {},
   "outputs": [],
   "source": [
    "hyundai = pd.concat([hyundai_1, hyundai_2, hyundai_3, hyundai_4, hyundai_5],ignore_index=True)\n",
    "hyundai.drop([hyundai.columns[-1],'S.No','Page No'], axis=1, inplace=True)\n",
    "#strip whitespace in between strings in brand code\n",
    "hyundai['Brand Code'] = hyundai['Brand Code'].str.replace(' ', '')"
   ]
  },
  {
   "cell_type": "code",
   "execution_count": 106,
   "id": "25079ba2",
   "metadata": {},
   "outputs": [
    {
     "data": {
      "text/html": [
       "<div>\n",
       "<style scoped>\n",
       "    .dataframe tbody tr th:only-of-type {\n",
       "        vertical-align: middle;\n",
       "    }\n",
       "\n",
       "    .dataframe tbody tr th {\n",
       "        vertical-align: top;\n",
       "    }\n",
       "\n",
       "    .dataframe thead th {\n",
       "        text-align: right;\n",
       "    }\n",
       "</style>\n",
       "<table border=\"1\" class=\"dataframe\">\n",
       "  <thead>\n",
       "    <tr style=\"text-align: right;\">\n",
       "      <th></th>\n",
       "      <th>Colour Name</th>\n",
       "      <th>Variant No.</th>\n",
       "      <th>Brand Code</th>\n",
       "    </tr>\n",
       "  </thead>\n",
       "  <tbody>\n",
       "    <tr>\n",
       "      <th>0</th>\n",
       "      <td>ALPINE BLUE</td>\n",
       "      <td>VAR-2</td>\n",
       "      <td>86WVB</td>\n",
       "    </tr>\n",
       "    <tr>\n",
       "      <th>1</th>\n",
       "      <td>ALPINE BLUE</td>\n",
       "      <td>VAR-3</td>\n",
       "      <td>87WFB</td>\n",
       "    </tr>\n",
       "    <tr>\n",
       "      <th>2</th>\n",
       "      <td>AMETHYST MAUVE</td>\n",
       "      <td>STD</td>\n",
       "      <td>9TGYB</td>\n",
       "    </tr>\n",
       "    <tr>\n",
       "      <th>3</th>\n",
       "      <td>AQUA TINT</td>\n",
       "      <td>VAR-1</td>\n",
       "      <td>761GB</td>\n",
       "    </tr>\n",
       "    <tr>\n",
       "      <th>4</th>\n",
       "      <td>BERRY RED</td>\n",
       "      <td>VAR-2</td>\n",
       "      <td>943VB</td>\n",
       "    </tr>\n",
       "    <tr>\n",
       "      <th>...</th>\n",
       "      <td>...</td>\n",
       "      <td>...</td>\n",
       "      <td>...</td>\n",
       "    </tr>\n",
       "    <tr>\n",
       "      <th>151</th>\n",
       "      <td>PWT WHITE</td>\n",
       "      <td>STD</td>\n",
       "      <td>E7F6</td>\n",
       "    </tr>\n",
       "    <tr>\n",
       "      <th>152</th>\n",
       "      <td>WHITE</td>\n",
       "      <td>VAR-1</td>\n",
       "      <td>L8G1</td>\n",
       "    </tr>\n",
       "    <tr>\n",
       "      <th>153</th>\n",
       "      <td>WHITE</td>\n",
       "      <td>VAR-2</td>\n",
       "      <td>X9N1B</td>\n",
       "    </tr>\n",
       "    <tr>\n",
       "      <th>154</th>\n",
       "      <td>WINE RED</td>\n",
       "      <td>VAR-1</td>\n",
       "      <td>2B3TB</td>\n",
       "    </tr>\n",
       "    <tr>\n",
       "      <th>155</th>\n",
       "      <td>WINE RED</td>\n",
       "      <td>VAR-2</td>\n",
       "      <td>4A8VB</td>\n",
       "    </tr>\n",
       "  </tbody>\n",
       "</table>\n",
       "<p>156 rows × 3 columns</p>\n",
       "</div>"
      ],
      "text/plain": [
       "        Colour Name Variant No. Brand Code\n",
       "0       ALPINE BLUE       VAR-2      86WVB\n",
       "1       ALPINE BLUE       VAR-3      87WFB\n",
       "2    AMETHYST MAUVE         STD      9TGYB\n",
       "3         AQUA TINT       VAR-1      761GB\n",
       "4         BERRY RED       VAR-2      943VB\n",
       "..              ...         ...        ...\n",
       "151       PWT WHITE         STD       E7F6\n",
       "152           WHITE       VAR-1       L8G1\n",
       "153           WHITE       VAR-2      X9N1B\n",
       "154        WINE RED       VAR-1      2B3TB\n",
       "155        WINE RED       VAR-2      4A8VB\n",
       "\n",
       "[156 rows x 3 columns]"
      ]
     },
     "execution_count": 106,
     "metadata": {},
     "output_type": "execute_result"
    }
   ],
   "source": [
    "hyundai"
   ]
  },
  {
   "cell_type": "markdown",
   "id": "5b7e0933",
   "metadata": {},
   "source": []
  },
  {
   "cell_type": "code",
   "execution_count": 107,
   "id": "aa5bc2a1",
   "metadata": {},
   "outputs": [],
   "source": [
    "hyundai.to_csv(f'{dataset_path}/hyundai.csv', index=False)"
   ]
  },
  {
   "cell_type": "code",
   "execution_count": 133,
   "id": "03ce98d5",
   "metadata": {},
   "outputs": [],
   "source": [
    "honda_1 = pd.read_csv(f'{dataset_path}/honda_1.csv')\n",
    "honda_2 = pd.read_csv(f'{dataset_path}/honda_2.csv')"
   ]
  },
  {
   "cell_type": "code",
   "execution_count": 134,
   "id": "ea78028a",
   "metadata": {},
   "outputs": [],
   "source": [
    "honda = pd.concat([honda_1, honda_2], ignore_index=True)\n",
    "honda.drop([honda.columns[-1],'S.No','Page No'], axis=1, inplace=True)\n",
    "#strip whitespace in between strings in brand code\n",
    "honda['Brand Code'] = honda['Brand Code'].str.replace(' ', '')  \n"
   ]
  },
  {
   "cell_type": "code",
   "execution_count": 136,
   "id": "adfb92ea",
   "metadata": {},
   "outputs": [],
   "source": [
    "honda.to_csv(f'{dataset_path}/honda.csv', index=False)"
   ]
  },
  {
   "cell_type": "code",
   "execution_count": 139,
   "id": "6854b099",
   "metadata": {},
   "outputs": [],
   "source": [
    "mahindra_1 = pd.read_csv(f'{dataset_path}/mahindra_1.csv')\n",
    "mahindra_2 = pd.read_csv(f'{dataset_path}/mahindra_2.csv')"
   ]
  },
  {
   "cell_type": "code",
   "execution_count": 142,
   "id": "2605a08a",
   "metadata": {},
   "outputs": [],
   "source": [
    "mahindra = pd.concat([mahindra_1, mahindra_2], ignore_index=True)\n",
    "mahindra.drop([mahindra.columns[-1],'S.No','Page No'], axis=1, inplace=True)\n",
    "#strip whitespace in between strings in brand code\n",
    "mahindra['Brand Code'] = mahindra['Brand Code'].str.replace(' ', '')\n"
   ]
  },
  {
   "cell_type": "code",
   "execution_count": 144,
   "id": "01d665cd",
   "metadata": {},
   "outputs": [],
   "source": [
    "mahindra.to_csv(f'{dataset_path}/mahindra.csv', index=False)"
   ]
  },
  {
   "cell_type": "code",
   "execution_count": 146,
   "id": "f6b2ad00",
   "metadata": {},
   "outputs": [],
   "source": [
    "tata_1 = pd.read_csv(f'{dataset_path}/tata_1.csv')\n",
    "tata_2 = pd.read_csv(f'{dataset_path}/tata_2.csv')\n",
    "tata_3 = pd.read_csv(f'{dataset_path}/tata_3.csv')\n",
    "tata_4 = pd.read_csv(f'{dataset_path}/tata_4.csv')\n",
    "tata_5 = pd.read_csv(f'{dataset_path}/tata_5.csv')\n",
    "tata_6 = pd.read_csv(f'{dataset_path}/tata_6.csv')"
   ]
  },
  {
   "cell_type": "code",
   "execution_count": 153,
   "id": "8849599e",
   "metadata": {},
   "outputs": [],
   "source": [
    "tata = pd.concat([tata_1, tata_2, tata_3, tata_4, tata_5, tata_6], ignore_index=True)\n",
    "tata.drop([tata.columns[-1],'S.No','Page No'], axis=1, inplace=True)\n",
    "#strip whitespace in between strings in brand code\n",
    "tata['Brand Code'] = tata['Brand Code'].str.replace(' ', '')"
   ]
  },
  {
   "cell_type": "code",
   "execution_count": 155,
   "id": "31972dfb",
   "metadata": {},
   "outputs": [],
   "source": [
    "tata.to_csv(f'{dataset_path}/tata.csv', index=False)"
   ]
  },
  {
   "cell_type": "code",
   "execution_count": 30,
   "id": "b33aeea8",
   "metadata": {},
   "outputs": [],
   "source": [
    "skoda = pd.read_csv(f'{dataset_path}/skoda.csv')"
   ]
  },
  {
   "cell_type": "code",
   "execution_count": 173,
   "id": "96e5cc26",
   "metadata": {},
   "outputs": [],
   "source": [
    "color_names = skoda['Colour Name'].unique()"
   ]
  },
  {
   "cell_type": "code",
   "execution_count": 191,
   "id": "db8e35d1",
   "metadata": {},
   "outputs": [],
   "source": [
    "from duckduckgo_search import DDGS\n",
    "import os\n",
    "import requests\n",
    "\n",
    "def download_car_images(car_list, num_images=3, save_dir=\"car_images\"):\n",
    "    os.makedirs(save_dir, exist_ok=True)\n",
    "\n",
    "    with DDGS() as ddgs:\n",
    "        for brand, color in car_list:\n",
    "            query = f\"{color} {brand} car real life images\"\n",
    "            print(f\"Searching for: {query}\")\n",
    "            results = ddgs.images(query, max_results=num_images)\n",
    "\n",
    "            for i, result in enumerate(results):\n",
    "                img_url = result[\"image\"]\n",
    "                ext = img_url.split(\".\")[-1].split(\"?\")[0]\n",
    "                filename = f\"{brand}_{color}_{i}.{ext}\"\n",
    "                filepath = os.path.join(f\"{save_dir}/{color}\", filename)\n",
    "\n",
    "                try:\n",
    "                    response = requests.get(img_url, timeout=10)\n",
    "                    if response.status_code == 200:\n",
    "                        with open(filepath, \"wb\") as f:\n",
    "                            f.write(response.content)\n",
    "                        print(f\"Downloaded: {filepath}\")\n",
    "                except Exception as e:\n",
    "                    print(f\"Failed to download {img_url}: {e}\")\n",
    "\n",
    "# Example list\n",
    "car_list = [('skoda',name) for name in skoda['Colour Name'].unique()]\n",
    "\n"
   ]
  },
  {
   "cell_type": "code",
   "execution_count": 61,
   "id": "82ebbc4a",
   "metadata": {},
   "outputs": [
    {
     "data": {
      "text/plain": [
       "[('skoda', 'AMETHYST PURPLE'),\n",
       " ('skoda', 'BRILLIANT SILVER'),\n",
       " ('skoda', 'CANDY WHITE'),\n",
       " ('skoda', 'CAPPUCCINO BEIGE'),\n",
       " ('skoda', 'CARBON STEEL GREY'),\n",
       " ('skoda', 'CORRIDA ROT'),\n",
       " ('skoda', 'CORRIDA RED'),\n",
       " ('skoda', 'DEEP BLACK'),\n",
       " ('skoda', 'DIAMOND SILVER'),\n",
       " ('skoda', 'FLASH RED'),\n",
       " ('skoda', 'MAGIC BLACK'),\n",
       " ('skoda', 'MAGNETIC BROWN'),\n",
       " ('skoda', 'MATO BROWN'),\n",
       " ('skoda', 'RALLY RED'),\n",
       " ('skoda', 'ROSSO BRONELLO'),\n",
       " ('skoda', 'RACE BLUE'),\n",
       " ('skoda', 'TOFFEE BROWN'),\n",
       " ('skoda', 'ZELENA GREEN')]"
      ]
     },
     "execution_count": 61,
     "metadata": {},
     "output_type": "execute_result"
    }
   ],
   "source": [
    "car_list = [('skoda',name) for name in skoda['Colour Name'].unique()]\n",
    "car_list"
   ]
  },
  {
   "cell_type": "code",
   "execution_count": 194,
   "id": "64301ad7",
   "metadata": {},
   "outputs": [],
   "source": [
    "import torch\n",
    "from torchvision import transforms,datasets, models\n",
    "from torch.utils.data import DataLoader, Dataset\n",
    "import torch.nn as nn"
   ]
  },
  {
   "cell_type": "code",
   "execution_count": 193,
   "id": "4f1619ac",
   "metadata": {},
   "outputs": [
    {
     "name": "stderr",
     "output_type": "stream",
     "text": [
      "/Users/boss_07/Documents/car_color_recognition/.venv/lib/python3.13/site-packages/torchvision/models/_utils.py:208: UserWarning: The parameter 'pretrained' is deprecated since 0.13 and may be removed in the future, please use 'weights' instead.\n",
      "  warnings.warn(\n",
      "/Users/boss_07/Documents/car_color_recognition/.venv/lib/python3.13/site-packages/torchvision/models/_utils.py:223: UserWarning: Arguments other than a weight enum or `None` for 'weights' are deprecated since 0.13 and may be removed in the future. The current behavior is equivalent to passing `weights=ResNet50_Weights.IMAGENET1K_V1`. You can also use `weights=ResNet50_Weights.DEFAULT` to get the most up-to-date weights.\n",
      "  warnings.warn(msg)\n"
     ]
    },
    {
     "name": "stdout",
     "output_type": "stream",
     "text": [
      "Downloading: \"https://download.pytorch.org/models/resnet50-0676ba61.pth\" to /Users/boss_07/.cache/torch/hub/checkpoints/resnet50-0676ba61.pth\n"
     ]
    },
    {
     "name": "stderr",
     "output_type": "stream",
     "text": [
      "100.0%\n"
     ]
    }
   ],
   "source": [
    "model = models.resnet50(pretrained=True)"
   ]
  },
  {
   "cell_type": "code",
   "execution_count": 195,
   "id": "7197e8fc",
   "metadata": {},
   "outputs": [],
   "source": [
    "model.fc = nn.Linear(model.fc.in_features, 19)"
   ]
  },
  {
   "cell_type": "code",
   "execution_count": 205,
   "id": "699a4b7b",
   "metadata": {},
   "outputs": [],
   "source": [
    "transform = transforms.Compose([ \n",
    "    transforms.Resize((224, 224)),\n",
    "    transforms.ToTensor(),\n",
    "])\n",
    "train_dataset = datasets.ImageFolder(\n",
    "    root='car_images/skoda',\n",
    "    transform=transform,\n",
    ")\n"
   ]
  },
  {
   "cell_type": "code",
   "execution_count": 210,
   "id": "65e427e9",
   "metadata": {},
   "outputs": [],
   "source": [
    "train_loader = DataLoader(\n",
    "    train_dataset,\n",
    "    batch_size=64,\n",
    "    shuffle=True,\n",
    ")"
   ]
  },
  {
   "cell_type": "code",
   "execution_count": 209,
   "id": "f809fa7c",
   "metadata": {},
   "outputs": [
    {
     "data": {
      "image/png": "[encoded data removed]",
      "text/plain": [
       "<Figure size 640x480 with 1 Axes>"
      ]
     },
     "metadata": {},
     "output_type": "display_data"
    }
   ],
   "source": [
    "import matplotlib.pyplot as plt\n",
    "\n",
    "for image,label in train_loader:\n",
    "    image = image.squeeze(0)\n",
    "    plt.imshow(image.permute(1, 2, 0))\n",
    "    plt.title(train_dataset.classes[label])\n",
    "    plt.axis('off')\n",
    "    plt.show()\n",
    "    break"
   ]
  },
  {
   "cell_type": "code",
   "execution_count": 215,
   "id": "70849ec1",
   "metadata": {},
   "outputs": [
    {
     "ename": "RuntimeError",
     "evalue": "MPS backend out of memory (MPS allocated: 8.83 GB, other allocations: 198.78 MB, max allowed: 9.07 GB). Tried to allocate 49.00 MB on private pool. Use PYTORCH_MPS_HIGH_WATERMARK_RATIO=0.0 to disable upper limit for memory allocations (may cause system failure).",
     "output_type": "error",
     "traceback": [
      "\u001b[31m---------------------------------------------------------------------------\u001b[39m",
      "\u001b[31mRuntimeError\u001b[39m                              Traceback (most recent call last)",
      "\u001b[36mCell\u001b[39m\u001b[36m \u001b[39m\u001b[32mIn[215]\u001b[39m\u001b[32m, line 13\u001b[39m\n\u001b[32m     10\u001b[39m images, labels = images.to(device), labels.to(device)\n\u001b[32m     12\u001b[39m optimizer.zero_grad()\n\u001b[32m---> \u001b[39m\u001b[32m13\u001b[39m outputs = \u001b[43mmodel\u001b[49m\u001b[43m(\u001b[49m\u001b[43mimages\u001b[49m\u001b[43m)\u001b[49m\n\u001b[32m     14\u001b[39m loss = criterion(outputs, labels)\n\u001b[32m     15\u001b[39m loss.backward()\n",
      "\u001b[36mFile \u001b[39m\u001b[32m~/Documents/car_color_recognition/.venv/lib/python3.13/site-packages/torch/nn/modules/module.py:1751\u001b[39m, in \u001b[36mModule._wrapped_call_impl\u001b[39m\u001b[34m(self, *args, **kwargs)\u001b[39m\n\u001b[32m   1749\u001b[39m     \u001b[38;5;28;01mreturn\u001b[39;00m \u001b[38;5;28mself\u001b[39m._compiled_call_impl(*args, **kwargs)  \u001b[38;5;66;03m# type: ignore[misc]\u001b[39;00m\n\u001b[32m   1750\u001b[39m \u001b[38;5;28;01melse\u001b[39;00m:\n\u001b[32m-> \u001b[39m\u001b[32m1751\u001b[39m     \u001b[38;5;28;01mreturn\u001b[39;00m \u001b[38;5;28;43mself\u001b[39;49m\u001b[43m.\u001b[49m\u001b[43m_call_impl\u001b[49m\u001b[43m(\u001b[49m\u001b[43m*\u001b[49m\u001b[43margs\u001b[49m\u001b[43m,\u001b[49m\u001b[43m \u001b[49m\u001b[43m*\u001b[49m\u001b[43m*\u001b[49m\u001b[43mkwargs\u001b[49m\u001b[43m)\u001b[49m\n",
      "\u001b[36mFile \u001b[39m\u001b[32m~/Documents/car_color_recognition/.venv/lib/python3.13/site-packages/torch/nn/modules/module.py:1762\u001b[39m, in \u001b[36mModule._call_impl\u001b[39m\u001b[34m(self, *args, **kwargs)\u001b[39m\n\u001b[32m   1757\u001b[39m \u001b[38;5;66;03m# If we don't have any hooks, we want to skip the rest of the logic in\u001b[39;00m\n\u001b[32m   1758\u001b[39m \u001b[38;5;66;03m# this function, and just call forward.\u001b[39;00m\n\u001b[32m   1759\u001b[39m \u001b[38;5;28;01mif\u001b[39;00m \u001b[38;5;129;01mnot\u001b[39;00m (\u001b[38;5;28mself\u001b[39m._backward_hooks \u001b[38;5;129;01mor\u001b[39;00m \u001b[38;5;28mself\u001b[39m._backward_pre_hooks \u001b[38;5;129;01mor\u001b[39;00m \u001b[38;5;28mself\u001b[39m._forward_hooks \u001b[38;5;129;01mor\u001b[39;00m \u001b[38;5;28mself\u001b[39m._forward_pre_hooks\n\u001b[32m   1760\u001b[39m         \u001b[38;5;129;01mor\u001b[39;00m _global_backward_pre_hooks \u001b[38;5;129;01mor\u001b[39;00m _global_backward_hooks\n\u001b[32m   1761\u001b[39m         \u001b[38;5;129;01mor\u001b[39;00m _global_forward_hooks \u001b[38;5;129;01mor\u001b[39;00m _global_forward_pre_hooks):\n\u001b[32m-> \u001b[39m\u001b[32m1762\u001b[39m     \u001b[38;5;28;01mreturn\u001b[39;00m \u001b[43mforward_call\u001b[49m\u001b[43m(\u001b[49m\u001b[43m*\u001b[49m\u001b[43margs\u001b[49m\u001b[43m,\u001b[49m\u001b[43m \u001b[49m\u001b[43m*\u001b[49m\u001b[43m*\u001b[49m\u001b[43mkwargs\u001b[49m\u001b[43m)\u001b[49m\n\u001b[32m   1764\u001b[39m result = \u001b[38;5;28;01mNone\u001b[39;00m\n\u001b[32m   1765\u001b[39m called_always_called_hooks = \u001b[38;5;28mset\u001b[39m()\n",
      "\u001b[36mFile \u001b[39m\u001b[32m~/Documents/car_color_recognition/.venv/lib/python3.13/site-packages/torchvision/models/resnet.py:285\u001b[39m, in \u001b[36mResNet.forward\u001b[39m\u001b[34m(self, x)\u001b[39m\n\u001b[32m    284\u001b[39m \u001b[38;5;28;01mdef\u001b[39;00m\u001b[38;5;250m \u001b[39m\u001b[34mforward\u001b[39m(\u001b[38;5;28mself\u001b[39m, x: Tensor) -> Tensor:\n\u001b[32m--> \u001b[39m\u001b[32m285\u001b[39m     \u001b[38;5;28;01mreturn\u001b[39;00m \u001b[38;5;28;43mself\u001b[39;49m\u001b[43m.\u001b[49m\u001b[43m_forward_impl\u001b[49m\u001b[43m(\u001b[49m\u001b[43mx\u001b[49m\u001b[43m)\u001b[49m\n",
      "\u001b[36mFile \u001b[39m\u001b[32m~/Documents/car_color_recognition/.venv/lib/python3.13/site-packages/torchvision/models/resnet.py:275\u001b[39m, in \u001b[36mResNet._forward_impl\u001b[39m\u001b[34m(self, x)\u001b[39m\n\u001b[32m    273\u001b[39m x = \u001b[38;5;28mself\u001b[39m.layer1(x)\n\u001b[32m    274\u001b[39m x = \u001b[38;5;28mself\u001b[39m.layer2(x)\n\u001b[32m--> \u001b[39m\u001b[32m275\u001b[39m x = \u001b[38;5;28;43mself\u001b[39;49m\u001b[43m.\u001b[49m\u001b[43mlayer3\u001b[49m\u001b[43m(\u001b[49m\u001b[43mx\u001b[49m\u001b[43m)\u001b[49m\n\u001b[32m    276\u001b[39m x = \u001b[38;5;28mself\u001b[39m.layer4(x)\n\u001b[32m    278\u001b[39m x = \u001b[38;5;28mself\u001b[39m.avgpool(x)\n",
      "\u001b[36mFile \u001b[39m\u001b[32m~/Documents/car_color_recognition/.venv/lib/python3.13/site-packages/torch/nn/modules/module.py:1751\u001b[39m, in \u001b[36mModule._wrapped_call_impl\u001b[39m\u001b[34m(self, *args, **kwargs)\u001b[39m\n\u001b[32m   1749\u001b[39m     \u001b[38;5;28;01mreturn\u001b[39;00m \u001b[38;5;28mself\u001b[39m._compiled_call_impl(*args, **kwargs)  \u001b[38;5;66;03m# type: ignore[misc]\u001b[39;00m\n\u001b[32m   1750\u001b[39m \u001b[38;5;28;01melse\u001b[39;00m:\n\u001b[32m-> \u001b[39m\u001b[32m1751\u001b[39m     \u001b[38;5;28;01mreturn\u001b[39;00m \u001b[38;5;28;43mself\u001b[39;49m\u001b[43m.\u001b[49m\u001b[43m_call_impl\u001b[49m\u001b[43m(\u001b[49m\u001b[43m*\u001b[49m\u001b[43margs\u001b[49m\u001b[43m,\u001b[49m\u001b[43m \u001b[49m\u001b[43m*\u001b[49m\u001b[43m*\u001b[49m\u001b[43mkwargs\u001b[49m\u001b[43m)\u001b[49m\n",
      "\u001b[36mFile \u001b[39m\u001b[32m~/Documents/car_color_recognition/.venv/lib/python3.13/site-packages/torch/nn/modules/module.py:1762\u001b[39m, in \u001b[36mModule._call_impl\u001b[39m\u001b[34m(self, *args, **kwargs)\u001b[39m\n\u001b[32m   1757\u001b[39m \u001b[38;5;66;03m# If we don't have any hooks, we want to skip the rest of the logic in\u001b[39;00m\n\u001b[32m   1758\u001b[39m \u001b[38;5;66;03m# this function, and just call forward.\u001b[39;00m\n\u001b[32m   1759\u001b[39m \u001b[38;5;28;01mif\u001b[39;00m \u001b[38;5;129;01mnot\u001b[39;00m (\u001b[38;5;28mself\u001b[39m._backward_hooks \u001b[38;5;129;01mor\u001b[39;00m \u001b[38;5;28mself\u001b[39m._backward_pre_hooks \u001b[38;5;129;01mor\u001b[39;00m \u001b[38;5;28mself\u001b[39m._forward_hooks \u001b[38;5;129;01mor\u001b[39;00m \u001b[38;5;28mself\u001b[39m._forward_pre_hooks\n\u001b[32m   1760\u001b[39m         \u001b[38;5;129;01mor\u001b[39;00m _global_backward_pre_hooks \u001b[38;5;129;01mor\u001b[39;00m _global_backward_hooks\n\u001b[32m   1761\u001b[39m         \u001b[38;5;129;01mor\u001b[39;00m _global_forward_hooks \u001b[38;5;129;01mor\u001b[39;00m _global_forward_pre_hooks):\n\u001b[32m-> \u001b[39m\u001b[32m1762\u001b[39m     \u001b[38;5;28;01mreturn\u001b[39;00m \u001b[43mforward_call\u001b[49m\u001b[43m(\u001b[49m\u001b[43m*\u001b[49m\u001b[43margs\u001b[49m\u001b[43m,\u001b[49m\u001b[43m \u001b[49m\u001b[43m*\u001b[49m\u001b[43m*\u001b[49m\u001b[43mkwargs\u001b[49m\u001b[43m)\u001b[49m\n\u001b[32m   1764\u001b[39m result = \u001b[38;5;28;01mNone\u001b[39;00m\n\u001b[32m   1765\u001b[39m called_always_called_hooks = \u001b[38;5;28mset\u001b[39m()\n",
      "\u001b[36mFile \u001b[39m\u001b[32m~/Documents/car_color_recognition/.venv/lib/python3.13/site-packages/torch/nn/modules/container.py:240\u001b[39m, in \u001b[36mSequential.forward\u001b[39m\u001b[34m(self, input)\u001b[39m\n\u001b[32m    238\u001b[39m \u001b[38;5;28;01mdef\u001b[39;00m\u001b[38;5;250m \u001b[39m\u001b[34mforward\u001b[39m(\u001b[38;5;28mself\u001b[39m, \u001b[38;5;28minput\u001b[39m):\n\u001b[32m    239\u001b[39m     \u001b[38;5;28;01mfor\u001b[39;00m module \u001b[38;5;129;01min\u001b[39;00m \u001b[38;5;28mself\u001b[39m:\n\u001b[32m--> \u001b[39m\u001b[32m240\u001b[39m         \u001b[38;5;28minput\u001b[39m = \u001b[43mmodule\u001b[49m\u001b[43m(\u001b[49m\u001b[38;5;28;43minput\u001b[39;49m\u001b[43m)\u001b[49m\n\u001b[32m    241\u001b[39m     \u001b[38;5;28;01mreturn\u001b[39;00m \u001b[38;5;28minput\u001b[39m\n",
      "\u001b[36mFile \u001b[39m\u001b[32m~/Documents/car_color_recognition/.venv/lib/python3.13/site-packages/torch/nn/modules/module.py:1751\u001b[39m, in \u001b[36mModule._wrapped_call_impl\u001b[39m\u001b[34m(self, *args, **kwargs)\u001b[39m\n\u001b[32m   1749\u001b[39m     \u001b[38;5;28;01mreturn\u001b[39;00m \u001b[38;5;28mself\u001b[39m._compiled_call_impl(*args, **kwargs)  \u001b[38;5;66;03m# type: ignore[misc]\u001b[39;00m\n\u001b[32m   1750\u001b[39m \u001b[38;5;28;01melse\u001b[39;00m:\n\u001b[32m-> \u001b[39m\u001b[32m1751\u001b[39m     \u001b[38;5;28;01mreturn\u001b[39;00m \u001b[38;5;28;43mself\u001b[39;49m\u001b[43m.\u001b[49m\u001b[43m_call_impl\u001b[49m\u001b[43m(\u001b[49m\u001b[43m*\u001b[49m\u001b[43margs\u001b[49m\u001b[43m,\u001b[49m\u001b[43m \u001b[49m\u001b[43m*\u001b[49m\u001b[43m*\u001b[49m\u001b[43mkwargs\u001b[49m\u001b[43m)\u001b[49m\n",
      "\u001b[36mFile \u001b[39m\u001b[32m~/Documents/car_color_recognition/.venv/lib/python3.13/site-packages/torch/nn/modules/module.py:1762\u001b[39m, in \u001b[36mModule._call_impl\u001b[39m\u001b[34m(self, *args, **kwargs)\u001b[39m\n\u001b[32m   1757\u001b[39m \u001b[38;5;66;03m# If we don't have any hooks, we want to skip the rest of the logic in\u001b[39;00m\n\u001b[32m   1758\u001b[39m \u001b[38;5;66;03m# this function, and just call forward.\u001b[39;00m\n\u001b[32m   1759\u001b[39m \u001b[38;5;28;01mif\u001b[39;00m \u001b[38;5;129;01mnot\u001b[39;00m (\u001b[38;5;28mself\u001b[39m._backward_hooks \u001b[38;5;129;01mor\u001b[39;00m \u001b[38;5;28mself\u001b[39m._backward_pre_hooks \u001b[38;5;129;01mor\u001b[39;00m \u001b[38;5;28mself\u001b[39m._forward_hooks \u001b[38;5;129;01mor\u001b[39;00m \u001b[38;5;28mself\u001b[39m._forward_pre_hooks\n\u001b[32m   1760\u001b[39m         \u001b[38;5;129;01mor\u001b[39;00m _global_backward_pre_hooks \u001b[38;5;129;01mor\u001b[39;00m _global_backward_hooks\n\u001b[32m   1761\u001b[39m         \u001b[38;5;129;01mor\u001b[39;00m _global_forward_hooks \u001b[38;5;129;01mor\u001b[39;00m _global_forward_pre_hooks):\n\u001b[32m-> \u001b[39m\u001b[32m1762\u001b[39m     \u001b[38;5;28;01mreturn\u001b[39;00m \u001b[43mforward_call\u001b[49m\u001b[43m(\u001b[49m\u001b[43m*\u001b[49m\u001b[43margs\u001b[49m\u001b[43m,\u001b[49m\u001b[43m \u001b[49m\u001b[43m*\u001b[49m\u001b[43m*\u001b[49m\u001b[43mkwargs\u001b[49m\u001b[43m)\u001b[49m\n\u001b[32m   1764\u001b[39m result = \u001b[38;5;28;01mNone\u001b[39;00m\n\u001b[32m   1765\u001b[39m called_always_called_hooks = \u001b[38;5;28mset\u001b[39m()\n",
      "\u001b[36mFile \u001b[39m\u001b[32m~/Documents/car_color_recognition/.venv/lib/python3.13/site-packages/torchvision/models/resnet.py:147\u001b[39m, in \u001b[36mBottleneck.forward\u001b[39m\u001b[34m(self, x)\u001b[39m\n\u001b[32m    144\u001b[39m identity = x\n\u001b[32m    146\u001b[39m out = \u001b[38;5;28mself\u001b[39m.conv1(x)\n\u001b[32m--> \u001b[39m\u001b[32m147\u001b[39m out = \u001b[38;5;28;43mself\u001b[39;49m\u001b[43m.\u001b[49m\u001b[43mbn1\u001b[49m\u001b[43m(\u001b[49m\u001b[43mout\u001b[49m\u001b[43m)\u001b[49m\n\u001b[32m    148\u001b[39m out = \u001b[38;5;28mself\u001b[39m.relu(out)\n\u001b[32m    150\u001b[39m out = \u001b[38;5;28mself\u001b[39m.conv2(out)\n",
      "\u001b[36mFile \u001b[39m\u001b[32m~/Documents/car_color_recognition/.venv/lib/python3.13/site-packages/torch/nn/modules/module.py:1751\u001b[39m, in \u001b[36mModule._wrapped_call_impl\u001b[39m\u001b[34m(self, *args, **kwargs)\u001b[39m\n\u001b[32m   1749\u001b[39m     \u001b[38;5;28;01mreturn\u001b[39;00m \u001b[38;5;28mself\u001b[39m._compiled_call_impl(*args, **kwargs)  \u001b[38;5;66;03m# type: ignore[misc]\u001b[39;00m\n\u001b[32m   1750\u001b[39m \u001b[38;5;28;01melse\u001b[39;00m:\n\u001b[32m-> \u001b[39m\u001b[32m1751\u001b[39m     \u001b[38;5;28;01mreturn\u001b[39;00m \u001b[38;5;28;43mself\u001b[39;49m\u001b[43m.\u001b[49m\u001b[43m_call_impl\u001b[49m\u001b[43m(\u001b[49m\u001b[43m*\u001b[49m\u001b[43margs\u001b[49m\u001b[43m,\u001b[49m\u001b[43m \u001b[49m\u001b[43m*\u001b[49m\u001b[43m*\u001b[49m\u001b[43mkwargs\u001b[49m\u001b[43m)\u001b[49m\n",
      "\u001b[36mFile \u001b[39m\u001b[32m~/Documents/car_color_recognition/.venv/lib/python3.13/site-packages/torch/nn/modules/module.py:1762\u001b[39m, in \u001b[36mModule._call_impl\u001b[39m\u001b[34m(self, *args, **kwargs)\u001b[39m\n\u001b[32m   1757\u001b[39m \u001b[38;5;66;03m# If we don't have any hooks, we want to skip the rest of the logic in\u001b[39;00m\n\u001b[32m   1758\u001b[39m \u001b[38;5;66;03m# this function, and just call forward.\u001b[39;00m\n\u001b[32m   1759\u001b[39m \u001b[38;5;28;01mif\u001b[39;00m \u001b[38;5;129;01mnot\u001b[39;00m (\u001b[38;5;28mself\u001b[39m._backward_hooks \u001b[38;5;129;01mor\u001b[39;00m \u001b[38;5;28mself\u001b[39m._backward_pre_hooks \u001b[38;5;129;01mor\u001b[39;00m \u001b[38;5;28mself\u001b[39m._forward_hooks \u001b[38;5;129;01mor\u001b[39;00m \u001b[38;5;28mself\u001b[39m._forward_pre_hooks\n\u001b[32m   1760\u001b[39m         \u001b[38;5;129;01mor\u001b[39;00m _global_backward_pre_hooks \u001b[38;5;129;01mor\u001b[39;00m _global_backward_hooks\n\u001b[32m   1761\u001b[39m         \u001b[38;5;129;01mor\u001b[39;00m _global_forward_hooks \u001b[38;5;129;01mor\u001b[39;00m _global_forward_pre_hooks):\n\u001b[32m-> \u001b[39m\u001b[32m1762\u001b[39m     \u001b[38;5;28;01mreturn\u001b[39;00m \u001b[43mforward_call\u001b[49m\u001b[43m(\u001b[49m\u001b[43m*\u001b[49m\u001b[43margs\u001b[49m\u001b[43m,\u001b[49m\u001b[43m \u001b[49m\u001b[43m*\u001b[49m\u001b[43m*\u001b[49m\u001b[43mkwargs\u001b[49m\u001b[43m)\u001b[49m\n\u001b[32m   1764\u001b[39m result = \u001b[38;5;28;01mNone\u001b[39;00m\n\u001b[32m   1765\u001b[39m called_always_called_hooks = \u001b[38;5;28mset\u001b[39m()\n",
      "\u001b[36mFile \u001b[39m\u001b[32m~/Documents/car_color_recognition/.venv/lib/python3.13/site-packages/torch/nn/modules/batchnorm.py:193\u001b[39m, in \u001b[36m_BatchNorm.forward\u001b[39m\u001b[34m(self, input)\u001b[39m\n\u001b[32m    186\u001b[39m     bn_training = (\u001b[38;5;28mself\u001b[39m.running_mean \u001b[38;5;129;01mis\u001b[39;00m \u001b[38;5;28;01mNone\u001b[39;00m) \u001b[38;5;129;01mand\u001b[39;00m (\u001b[38;5;28mself\u001b[39m.running_var \u001b[38;5;129;01mis\u001b[39;00m \u001b[38;5;28;01mNone\u001b[39;00m)\n\u001b[32m    188\u001b[39m \u001b[38;5;250m\u001b[39m\u001b[33mr\u001b[39m\u001b[33;03m\"\"\"\u001b[39;00m\n\u001b[32m    189\u001b[39m \u001b[33;03mBuffers are only updated if they are to be tracked and we are in training mode. Thus they only need to be\u001b[39;00m\n\u001b[32m    190\u001b[39m \u001b[33;03mpassed when the update should occur (i.e. in training mode when they are tracked), or when buffer stats are\u001b[39;00m\n\u001b[32m    191\u001b[39m \u001b[33;03mused for normalization (i.e. in eval mode when buffers are not None).\u001b[39;00m\n\u001b[32m    192\u001b[39m \u001b[33;03m\"\"\"\u001b[39;00m\n\u001b[32m--> \u001b[39m\u001b[32m193\u001b[39m \u001b[38;5;28;01mreturn\u001b[39;00m \u001b[43mF\u001b[49m\u001b[43m.\u001b[49m\u001b[43mbatch_norm\u001b[49m\u001b[43m(\u001b[49m\n\u001b[32m    194\u001b[39m \u001b[43m    \u001b[49m\u001b[38;5;28;43minput\u001b[39;49m\u001b[43m,\u001b[49m\n\u001b[32m    195\u001b[39m \u001b[43m    \u001b[49m\u001b[38;5;66;43;03m# If buffers are not to be tracked, ensure that they won't be updated\u001b[39;49;00m\n\u001b[32m    196\u001b[39m \u001b[43m    \u001b[49m\u001b[38;5;28;43mself\u001b[39;49m\u001b[43m.\u001b[49m\u001b[43mrunning_mean\u001b[49m\n\u001b[32m    197\u001b[39m \u001b[43m    \u001b[49m\u001b[38;5;28;43;01mif\u001b[39;49;00m\u001b[43m \u001b[49m\u001b[38;5;129;43;01mnot\u001b[39;49;00m\u001b[43m \u001b[49m\u001b[38;5;28;43mself\u001b[39;49m\u001b[43m.\u001b[49m\u001b[43mtraining\u001b[49m\u001b[43m \u001b[49m\u001b[38;5;129;43;01mor\u001b[39;49;00m\u001b[43m \u001b[49m\u001b[38;5;28;43mself\u001b[39;49m\u001b[43m.\u001b[49m\u001b[43mtrack_running_stats\u001b[49m\n\u001b[32m    198\u001b[39m \u001b[43m    \u001b[49m\u001b[38;5;28;43;01melse\u001b[39;49;00m\u001b[43m \u001b[49m\u001b[38;5;28;43;01mNone\u001b[39;49;00m\u001b[43m,\u001b[49m\n\u001b[32m    199\u001b[39m \u001b[43m    \u001b[49m\u001b[38;5;28;43mself\u001b[39;49m\u001b[43m.\u001b[49m\u001b[43mrunning_var\u001b[49m\u001b[43m \u001b[49m\u001b[38;5;28;43;01mif\u001b[39;49;00m\u001b[43m \u001b[49m\u001b[38;5;129;43;01mnot\u001b[39;49;00m\u001b[43m \u001b[49m\u001b[38;5;28;43mself\u001b[39;49m\u001b[43m.\u001b[49m\u001b[43mtraining\u001b[49m\u001b[43m \u001b[49m\u001b[38;5;129;43;01mor\u001b[39;49;00m\u001b[43m \u001b[49m\u001b[38;5;28;43mself\u001b[39;49m\u001b[43m.\u001b[49m\u001b[43mtrack_running_stats\u001b[49m\u001b[43m \u001b[49m\u001b[38;5;28;43;01melse\u001b[39;49;00m\u001b[43m \u001b[49m\u001b[38;5;28;43;01mNone\u001b[39;49;00m\u001b[43m,\u001b[49m\n\u001b[32m    200\u001b[39m \u001b[43m    \u001b[49m\u001b[38;5;28;43mself\u001b[39;49m\u001b[43m.\u001b[49m\u001b[43mweight\u001b[49m\u001b[43m,\u001b[49m\n\u001b[32m    201\u001b[39m \u001b[43m    \u001b[49m\u001b[38;5;28;43mself\u001b[39;49m\u001b[43m.\u001b[49m\u001b[43mbias\u001b[49m\u001b[43m,\u001b[49m\n\u001b[32m    202\u001b[39m \u001b[43m    \u001b[49m\u001b[43mbn_training\u001b[49m\u001b[43m,\u001b[49m\n\u001b[32m    203\u001b[39m \u001b[43m    \u001b[49m\u001b[43mexponential_average_factor\u001b[49m\u001b[43m,\u001b[49m\n\u001b[32m    204\u001b[39m \u001b[43m    \u001b[49m\u001b[38;5;28;43mself\u001b[39;49m\u001b[43m.\u001b[49m\u001b[43meps\u001b[49m\u001b[43m,\u001b[49m\n\u001b[32m    205\u001b[39m \u001b[43m\u001b[49m\u001b[43m)\u001b[49m\n",
      "\u001b[36mFile \u001b[39m\u001b[32m~/Documents/car_color_recognition/.venv/lib/python3.13/site-packages/torch/nn/functional.py:2822\u001b[39m, in \u001b[36mbatch_norm\u001b[39m\u001b[34m(input, running_mean, running_var, weight, bias, training, momentum, eps)\u001b[39m\n\u001b[32m   2819\u001b[39m \u001b[38;5;28;01mif\u001b[39;00m training:\n\u001b[32m   2820\u001b[39m     _verify_batch_size(\u001b[38;5;28minput\u001b[39m.size())\n\u001b[32m-> \u001b[39m\u001b[32m2822\u001b[39m \u001b[38;5;28;01mreturn\u001b[39;00m \u001b[43mtorch\u001b[49m\u001b[43m.\u001b[49m\u001b[43mbatch_norm\u001b[49m\u001b[43m(\u001b[49m\n\u001b[32m   2823\u001b[39m \u001b[43m    \u001b[49m\u001b[38;5;28;43minput\u001b[39;49m\u001b[43m,\u001b[49m\n\u001b[32m   2824\u001b[39m \u001b[43m    \u001b[49m\u001b[43mweight\u001b[49m\u001b[43m,\u001b[49m\n\u001b[32m   2825\u001b[39m \u001b[43m    \u001b[49m\u001b[43mbias\u001b[49m\u001b[43m,\u001b[49m\n\u001b[32m   2826\u001b[39m \u001b[43m    \u001b[49m\u001b[43mrunning_mean\u001b[49m\u001b[43m,\u001b[49m\n\u001b[32m   2827\u001b[39m \u001b[43m    \u001b[49m\u001b[43mrunning_var\u001b[49m\u001b[43m,\u001b[49m\n\u001b[32m   2828\u001b[39m \u001b[43m    \u001b[49m\u001b[43mtraining\u001b[49m\u001b[43m,\u001b[49m\n\u001b[32m   2829\u001b[39m \u001b[43m    \u001b[49m\u001b[43mmomentum\u001b[49m\u001b[43m,\u001b[49m\n\u001b[32m   2830\u001b[39m \u001b[43m    \u001b[49m\u001b[43meps\u001b[49m\u001b[43m,\u001b[49m\n\u001b[32m   2831\u001b[39m \u001b[43m    \u001b[49m\u001b[43mtorch\u001b[49m\u001b[43m.\u001b[49m\u001b[43mbackends\u001b[49m\u001b[43m.\u001b[49m\u001b[43mcudnn\u001b[49m\u001b[43m.\u001b[49m\u001b[43menabled\u001b[49m\u001b[43m,\u001b[49m\n\u001b[32m   2832\u001b[39m \u001b[43m\u001b[49m\u001b[43m)\u001b[49m\n",
      "\u001b[31mRuntimeError\u001b[39m: MPS backend out of memory (MPS allocated: 8.83 GB, other allocations: 198.78 MB, max allowed: 9.07 GB). Tried to allocate 49.00 MB on private pool. Use PYTORCH_MPS_HIGH_WATERMARK_RATIO=0.0 to disable upper limit for memory allocations (may cause system failure)."
     ]
    }
   ],
   "source": [
    "device = torch.device(\"mps\" if torch.mps.is_available() else \"cpu\")\n",
    "model = model.to(device)\n",
    "criterion = nn.CrossEntropyLoss()\n",
    "optimizer = torch.optim.Adam(model.parameters(), lr=0.001,weight_decay=1e-5)\n",
    "\n",
    "for epoch in range(10):\n",
    "    model.train()\n",
    "    running_loss = 0.0\n",
    "    for images, labels in train_loader:\n",
    "        images, labels = images.to(device), labels.to(device)\n",
    "        \n",
    "        optimizer.zero_grad()\n",
    "        outputs = model(images)\n",
    "        loss = criterion(outputs, labels)\n",
    "        loss.backward()\n",
    "        optimizer.step()\n",
    "        \n",
    "        running_loss += loss.item() * images.size(0)\n",
    "    \n",
    "    epoch_loss = running_loss / len(train_loader.dataset)\n",
    "    print(f\"Epoch {epoch+1}, Loss: {epoch_loss:.4f}\")\n",
    "\n"
   ]
  },
  {
   "cell_type": "code",
   "execution_count": 5,
   "id": "fe24f2f1",
   "metadata": {},
   "outputs": [],
   "source": [
    "import pandas as pd"
   ]
  },
  {
   "cell_type": "code",
   "execution_count": 6,
   "id": "8cf3092e",
   "metadata": {},
   "outputs": [],
   "source": [
    "tata = pd.read_csv(f\"{dataset_path}/tata.csv\")"
   ]
  },
  {
   "cell_type": "code",
   "execution_count": 16,
   "id": "6ea8f4d2",
   "metadata": {},
   "outputs": [],
   "source": [
    "tata_coloros = list(tata['Colour Name'].dropna().drop_duplicates())"
   ]
  },
  {
   "cell_type": "code",
   "execution_count": 18,
   "id": "ae5999c9",
   "metadata": {},
   "outputs": [
    {
     "data": {
      "text/plain": [
       "['AFTER GLOW',\n",
       " 'AMAZON GREEN',\n",
       " 'APPLE GREEN',\n",
       " 'ARIZONA BLUE',\n",
       " 'ARIZONA OCHER',\n",
       " 'ARCTIC SILVER',\n",
       " 'ARTIC SILVER',\n",
       " 'ARTIC WHITE',\n",
       " 'ASTERN BLACK',\n",
       " 'AQUATIC BLUE',\n",
       " 'AQUA BLUE',\n",
       " 'AQUA GREEN',\n",
       " 'AZTEC BLUE',\n",
       " 'BARRE GREY',\n",
       " 'BRILLIANT BLUE',\n",
       " 'BERRY RED/VERMONT RED',\n",
       " 'BERRY REDNERMONT RED',\n",
       " 'BLAZING RED',\n",
       " 'BURGANDY ROYAL',\n",
       " 'BUZZ BLUE',\n",
       " 'CARBON BLACK',\n",
       " 'CASTLE GREY',\n",
       " 'CHAMPION BLUE',\n",
       " 'CHERRY RED',\n",
       " 'CHILL BLUE',\n",
       " 'CITRINE GOLD',\n",
       " 'CLASSIC IVORY',\n",
       " 'CORN FLOWER BLUE',\n",
       " 'CONTINENTAL BLUE',\n",
       " 'COPPER DAZZLE/URBAN COPPER',\n",
       " 'CRESCENT YELLOW',\n",
       " 'DAMSON PURPLE',\n",
       " 'DARK GREEN',\n",
       " 'DARK NEPTUNE BLUE',\n",
       " 'DAWN GLOW',\n",
       " 'DAZZLE BLUE',\n",
       " 'DEW PEARL WHITE',\n",
       " 'DUNE BEIGE',\n",
       " 'DUSKY GREY',\n",
       " 'ESPRESSO BROWN',\n",
       " 'ETNA ORANGE',\n",
       " 'FOREST GREEN',\n",
       " 'FURNACE RED',\n",
       " 'GALA RED',\n",
       " 'GOLDEN BROWN',\n",
       " 'GREY NOIR',\n",
       " 'HAZULNUT WHITE',\n",
       " 'INFINITY BLACK',\n",
       " 'INLAND BLUE',\n",
       " 'IRISH CREAM',\n",
       " 'IVORY',\n",
       " 'IVORY WHITE',\n",
       " 'JET BLACK',\n",
       " 'JET SILVER',\n",
       " 'LAVENDER MIST',\n",
       " 'MALACHITE GREEN',\n",
       " 'MARINE BLUE',\n",
       " 'MARSH GREEN',\n",
       " 'MATT OLIVE GREEN',\n",
       " 'METALLIC LIGHT GOLD',\n",
       " 'METEOR SILVER',\n",
       " 'MICA GREY',\n",
       " 'MINT WHITE',\n",
       " 'MINT WHITE II',\n",
       " 'MISTY GREY',\n",
       " 'MOJITO GREEN',\n",
       " 'MONARCH RED',\n",
       " 'MOON BLUE',\n",
       " 'NEO ORANGE',\n",
       " 'NEON RUSH',\n",
       " 'NEPTUNE BLUE',\n",
       " 'NEW ARTIC WHITE',\n",
       " 'NEW PEARL WHITE',\n",
       " 'NOBEL BLUE',\n",
       " 'NOROLP GREEN',\n",
       " 'OCEANA BLUE',\n",
       " 'OLIVE GREEN',\n",
       " 'ORANGISH GOLD',\n",
       " 'OXFORD BLUE',\n",
       " 'PACIFIC GREEN',\n",
       " 'PALOMY GREEN',\n",
       " 'PAPAYA ORANGE',\n",
       " 'PARADISE BLUE',\n",
       " 'PEARLESCENT WHITE',\n",
       " 'PERSIAN ROSE',\n",
       " 'PLATINUM GREY',\n",
       " 'PLATINIUM SILVER/SEATTLE SILVER',\n",
       " 'POLY ARCTIC WHITE',\n",
       " 'PORCELAIN WHITE',\n",
       " 'PRISTINE WHITE/CALGARY WHITE',\n",
       " 'RACING RED',\n",
       " 'RIVEIRA BLUE',\n",
       " 'RIVEIRA BLUE (L. U. V.)',\n",
       " 'RUBY RED',\n",
       " 'SALSA RED',\n",
       " 'SANGRIA RED',\n",
       " 'SAPHIRE BLUE/MOROCCAN BLUE',\n",
       " 'SARDINA RED',\n",
       " 'SATIN GOLD',\n",
       " 'SCAMIC OLIVE GREEN',\n",
       " 'SCARLETT RED',\n",
       " 'SERENE WHITE',\n",
       " 'SIENA GOLD',\n",
       " 'SIGNAL RED',\n",
       " 'SILK GOLD',\n",
       " 'SIZZLING SAND',\n",
       " 'SKY BLUE',\n",
       " 'SKYLINE BLUE',\n",
       " 'SMOKE GREY',\n",
       " 'SPANISH TAN',\n",
       " 'SPARKLE RED',\n",
       " 'SPARKLING GOLD',\n",
       " 'SPICE RED',\n",
       " 'STONE BLUE',\n",
       " 'STORMY GREY',\n",
       " 'SUMMER BLUE',\n",
       " 'SUMMER SPARKLE',\n",
       " 'SUPERIO WHITE',\n",
       " 'SUNSHINE YELLOW',\n",
       " 'TITANIUM GREY',\n",
       " 'TROMSO BLACK',\n",
       " 'TUNGSTEN SILVER',\n",
       " 'TURQUOISE GREEN',\n",
       " 'TYRIAN WINE',\n",
       " 'URBAN BRONZE',\n",
       " 'VENETIAN RED',\n",
       " 'VICTA WHITE',\n",
       " 'VIOLETA',\n",
       " 'VOCAL WHITE',\n",
       " 'VULCAN GREY',\n",
       " 'WALNUT GOLD']"
      ]
     },
     "execution_count": 18,
     "metadata": {},
     "output_type": "execute_result"
    }
   ],
   "source": [
    "tata_coloros"
   ]
  },
  {
   "cell_type": "code",
   "execution_count": 22,
   "id": "932c386c",
   "metadata": {},
   "outputs": [],
   "source": [
    "volkswagen = pd.read_csv(f'{dataset_path}/volkswagen.csv')"
   ]
  },
  {
   "cell_type": "code",
   "execution_count": 24,
   "id": "c9b38d90",
   "metadata": {},
   "outputs": [],
   "source": [
    "volkswagen_coloros = list(volkswagen['Colour Name'].dropna().drop_duplicates())"
   ]
  },
  {
   "cell_type": "code",
   "execution_count": 25,
   "id": "1d883fc9",
   "metadata": {},
   "outputs": [
    {
     "data": {
      "text/plain": [
       "['BLUE SILK',\n",
       " 'CANDY WHITE',\n",
       " 'CARBON STEEL GREY',\n",
       " 'COPPER ORANGE',\n",
       " 'DARK BRONZE',\n",
       " 'DEEP BLACK',\n",
       " 'EMOTION BLUE',\n",
       " 'FLASH RED',\n",
       " 'MOCCA BROWN',\n",
       " 'NIGHT BLUE',\n",
       " 'PEPPER GREY',\n",
       " 'PLATINUM GREY',\n",
       " 'REFLEX SILVER',\n",
       " 'SHADOW BLUE',\n",
       " 'SILVER LEAF',\n",
       " 'TERRA BEIGE',\n",
       " 'TITANIUM BEIGE',\n",
       " 'TOFFEE BROWN']"
      ]
     },
     "execution_count": 25,
     "metadata": {},
     "output_type": "execute_result"
    }
   ],
   "source": [
    "volkswagen_coloros"
   ]
  },
  {
   "cell_type": "code",
   "execution_count": 41,
   "id": "76ba24c5",
   "metadata": {},
   "outputs": [],
   "source": [
    "from torchvision.models import resnet34\n",
    "import torch.nn as nn\n",
    "import torch"
   ]
  },
  {
   "cell_type": "code",
   "execution_count": 42,
   "id": "2c103a4d",
   "metadata": {},
   "outputs": [
    {
     "name": "stderr",
     "output_type": "stream",
     "text": [
      "/Users/boss_07/Documents/car_color_recognition/.venv/lib/python3.13/site-packages/torchvision/models/_utils.py:208: UserWarning: The parameter 'pretrained' is deprecated since 0.13 and may be removed in the future, please use 'weights' instead.\n",
      "  warnings.warn(\n",
      "/Users/boss_07/Documents/car_color_recognition/.venv/lib/python3.13/site-packages/torchvision/models/_utils.py:223: UserWarning: Arguments other than a weight enum or `None` for 'weights' are deprecated since 0.13 and may be removed in the future. The current behavior is equivalent to passing `weights=ResNet34_Weights.IMAGENET1K_V1`. You can also use `weights=ResNet34_Weights.DEFAULT` to get the most up-to-date weights.\n",
      "  warnings.warn(msg)\n"
     ]
    }
   ],
   "source": [
    "model = resnet34(pretrained=True)"
   ]
  },
  {
   "cell_type": "code",
   "execution_count": 49,
   "id": "b42b8993",
   "metadata": {},
   "outputs": [],
   "source": [
    "model.fc = nn.Linear(model.fc.in_features, 17)"
   ]
  },
  {
   "cell_type": "code",
   "execution_count": 50,
   "id": "87da58af",
   "metadata": {},
   "outputs": [],
   "source": [
    "device = torch.device(\"mps\" if torch.mps.is_available() else \"cpu\")"
   ]
  },
  {
   "cell_type": "code",
   "execution_count": 53,
   "id": "92d17fd7",
   "metadata": {},
   "outputs": [
    {
     "data": {
      "text/plain": [
       "<All keys matched successfully>"
      ]
     },
     "execution_count": 53,
     "metadata": {},
     "output_type": "execute_result"
    }
   ],
   "source": [
    "model.load_state_dict(torch.load('model2.pth', map_location=torch.device('mps')))"
   ]
  },
  {
   "cell_type": "code",
   "execution_count": null,
   "id": "c656c44a",
   "metadata": {},
   "outputs": [],
   "source": [
    "from PIL import Image\n",
    "from torchvision import transforms\n",
    "\n",
    "transform = transforms.Compose([\n",
    "    transforms.Resize((224, 224)),\n",
    "    transforms.ToTensor(),\n",
    "])"
   ]
  },
  {
   "cell_type": "code",
   "execution_count": 90,
   "id": "889c5a46",
   "metadata": {},
   "outputs": [],
   "source": [
    "test_image = Image.open('image copy.png')\n",
    "test_image = transform(test_image).unsqueeze(0).to(device)\n",
    "\n",
    "model = model.to(device)  # Ensure model is on the same device as input\n",
    "\n",
    "model.eval()\n",
    "with torch.no_grad():\n",
    "    test_image = test_image.to(device)\n",
    "    output = model(test_image)\n",
    "    _, predicted = torch.max(output, 1)\n",
    "\n",
    "predicted_class = predicted.item()\n"
   ]
  },
  {
   "cell_type": "code",
   "execution_count": 67,
   "id": "80ac8925",
   "metadata": {},
   "outputs": [
    {
     "data": {
      "text/plain": [
       "tensor([14], device='mps:0')"
      ]
     },
     "execution_count": 67,
     "metadata": {},
     "output_type": "execute_result"
    }
   ],
   "source": [
    "predicted"
   ]
  },
  {
   "cell_type": "code",
   "execution_count": 68,
   "id": "2fd4f50a",
   "metadata": {},
   "outputs": [],
   "source": [
    "# predicted_class is the index of the predicted class for skoda\n",
    "idx_to_class = {}\n",
    "for idx, color in enumerate(skoda['Colour Name'].unique()):\n",
    "    idx_to_class[idx] = color"
   ]
  },
  {
   "cell_type": "code",
   "execution_count": 91,
   "id": "e068d19d",
   "metadata": {},
   "outputs": [
    {
     "data": {
      "text/plain": [
       "'BRILLIANT SILVER'"
      ]
     },
     "execution_count": 91,
     "metadata": {},
     "output_type": "execute_result"
    }
   ],
   "source": [
    "idx_to_class[predicted_class]"
   ]
  },
  {
   "cell_type": "code",
   "execution_count": 75,
   "id": "c081048d",
   "metadata": {},
   "outputs": [
    {
     "data": {
      "text/plain": [
       "array(['AMETHYST PURPLE', 'BRILLIANT SILVER', 'CANDY WHITE',\n",
       "       'CAPPUCCINO BEIGE', 'CARBON STEEL GREY', 'CORRIDA ROT',\n",
       "       'CORRIDA RED', 'DEEP BLACK', 'DIAMOND SILVER', 'FLASH RED',\n",
       "       'MAGIC BLACK', 'MAGNETIC BROWN', 'MATO BROWN', 'RALLY RED',\n",
       "       'ROSSO BRONELLO', 'RACE BLUE', 'TOFFEE BROWN', 'ZELENA GREEN'],\n",
       "      dtype=object)"
      ]
     },
     "execution_count": 75,
     "metadata": {},
     "output_type": "execute_result"
    }
   ],
   "source": [
    "skoda['Colour Name'].unique()"
   ]
  },
  {
   "cell_type": "code",
   "execution_count": 79,
   "id": "036f0372",
   "metadata": {},
   "outputs": [],
   "source": [
    "maruti = pd.read_csv(f'{dataset_path}/maruti.csv')"
   ]
  },
  {
   "cell_type": "code",
   "execution_count": 83,
   "id": "39761b4b",
   "metadata": {},
   "outputs": [
    {
     "data": {
      "text/plain": [
       "90"
      ]
     },
     "execution_count": 83,
     "metadata": {},
     "output_type": "execute_result"
    }
   ],
   "source": [
    "len(maruti['Colour Name'].unique())"
   ]
  },
  {
   "cell_type": "code",
   "execution_count": 85,
   "id": "3c66e27a",
   "metadata": {},
   "outputs": [
    {
     "data": {
      "text/plain": [
       "array(['ALP BLUE', 'APPLE RED', 'ARIZONA BEIGE', 'ARPTIC PEARL WHITE',\n",
       "       'AUTUMN ORANGE', 'AZURE GREY', 'BAHAMAS BEIGE', 'BAKERS CHOCOLATE',\n",
       "       'BEAM BLUE', 'BLAZING RED', 'BLUISH BLACK PEARL', 'BREEZE BLUE',\n",
       "       'BRIGHT RED', 'BRILLIANT YELLOW', 'CARRIBEAN BLUE',\n",
       "       'CERULEAN BLUE', 'CLEAR BEIGE', 'DESERT BROWN', 'DIGNITY BROWN',\n",
       "       'DUSKY BROWN', 'ECRU BEIGE', 'EMERALD BLUE', 'FANTASY BLACK',\n",
       "       'FIRE BRICK RED', 'FIRE RED', 'FRANCOISE WHITE', 'FRENCH ECLAIR',\n",
       "       'FROST BLUE', 'GALAXY MAROON', 'GALLANT RED', 'GARNET ORANGE',\n",
       "       'GLISTENING GREY', 'GOLDSMITH BLACK', 'GRANITE GREY',\n",
       "       'HAZE PURPLE', 'HEALING GREEN', 'IRADIUM GOLD', 'LIME YELLOW',\n",
       "       'LUCENT ORANGE', 'MET FIERY YELLOW', 'MET MAGMA GREY',\n",
       "       'MET MYSTIQUE RED', 'MET PREMIUM SILVER', 'MIDNIGHT BLACK',\n",
       "       'MIDNIGHT BLUE', 'MOJITO GREEN', 'MYSTERIOUS VIOLET',\n",
       "       'NEW PASSION RED', 'NEW SILKY SILVER', 'NEW SUPERIOR WHITE',\n",
       "       'NEW WINE RED', 'NUTMEG BROWN', 'OLIVE GREEN', 'OXFORD BLUE',\n",
       "       'OY$TER-RLUE', 'OYSTER BLUE', 'PAPRIKA ORANGE', 'PARADISE BLUE',\n",
       "       'PASSION RED', 'PEARL AQUA WHITE', 'PEARL BLUE BLAZE',\n",
       "       'PEARL CAFFEINE BROWN', 'PEARL SANGRIA RED', 'PEARL SILVER',\n",
       "       'PEARL SNOW WHITE', 'POOLSIDE BLUE', 'PREMIUM SILVER',\n",
       "       'PRIME PACIFIC BLUE', 'PRIME TINSEL BLUE', 'PRL SUPER BLACK',\n",
       "       'PRIME UPTOWN RED', 'PURPLE FUSION', 'QUANTUM ORANGE',\n",
       "       'RADIANT BEIGE', 'RAY BLUE', 'ROUGE RED', 'SERENE BLUE',\n",
       "       'SHERWOOD BROWN', 'SILKY SILVER', 'STARGAZE BLUE',\n",
       "       'SUNLIGHT COPPER', 'SUNLUGHT COPPER', 'SUNSHINE RAY',\n",
       "       'SUPERIOR WHITE', 'SUPREME RED', 'SUPREME WHITE', 'TANGO ORANGE',\n",
       "       'TORQUE BLUE', 'URBAN BLUE', 'WINE RED'], dtype=object)"
      ]
     },
     "execution_count": 85,
     "metadata": {},
     "output_type": "execute_result"
    }
   ],
   "source": [
    "maruti['Colour Name'].unique()"
   ]
  },
  {
   "cell_type": "code",
   "execution_count": null,
   "id": "e1b46076",
   "metadata": {},
   "outputs": [],
   "source": []
  }
 ],
 "metadata": {
  "kernelspec": {
   "display_name": ".venv",
   "language": "python",
   "name": "python3"
  },
  "language_info": {
   "codemirror_mode": {
    "name": "ipython",
    "version": 3
   },
   "file_extension": ".py",
   "mimetype": "text/x-python",
   "name": "python",
   "nbconvert_exporter": "python",
   "pygments_lexer": "ipython3",
   "version": "3.13.2"
  }
 },
 "nbformat": 4,
 "nbformat_minor": 5
}
